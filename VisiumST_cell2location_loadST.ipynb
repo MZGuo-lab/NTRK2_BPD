{
 "cells": [
  {
   "cell_type": "code",
   "execution_count": null,
   "metadata": {},
   "outputs": [],
   "source": [
    "import sys\n",
    "import scanpy as sc\n",
    "import numpy as np\n",
    "import matplotlib.pyplot as plt\n",
    "import matplotlib as mpl\n",
    "import pandas as pd\n",
    "import seaborn as sns\n",
    "import scvi\n",
    "\n",
    "import cell2location\n",
    "\n",
    "from matplotlib import rcParams\n",
    "rcParams['pdf.fonttype'] = 42 # enables correct plotting of text for PDFs\n",
    "\n",
    "###\n",
    "results_folder = './results/BPD/'"
   ]
  },
  {
   "cell_type": "code",
   "execution_count": null,
   "metadata": {},
   "outputs": [],
   "source": [
    "# path = sp_data_folder + 'rawdata/'\n",
    "def read_and_qc(path, sample_name, count_file='filtered_feature_bc_matrix.h5'):\n",
    "    r\"\"\" This function reads the data for one 10X spatial experiment into the anndata object.\n",
    "    It also calculates QC metrics. Modify this function if required by your workflow.\n",
    "\n",
    "    :param sample_name: Name of the sample\n",
    "    :param path: path to data\n",
    "    \"\"\"\n",
    "\n",
    "    adata = sc.read_visium(path + str(sample_name) + '/', count_file=count_file, load_images=True)\n",
    "    adata.obs['sample'] = sample_name\n",
    "    adata.var['SYMBOL'] = adata.var_names\n",
    "    adata.var.rename(columns={'gene_ids': 'ENSEMBL'}, inplace=True)\n",
    "    adata.var_names = adata.var['ENSEMBL']\n",
    "    adata.var.drop(columns='ENSEMBL', inplace=True)\n",
    "\n",
    "    # just in case there are non-unique ENSEMBL IDs\n",
    "    adata.var_names_make_unique()\n",
    "\n",
    "    # Calculate QC metrics\n",
    "    sc.pp.calculate_qc_metrics(adata, inplace=True)\n",
    "    adata.var['mt'] = [gene.startswith('mt-') for gene in adata.var['SYMBOL']]\n",
    "    adata.obs['mt_frac'] = adata[:, adata.var['mt'].tolist()].X.sum(1).A.squeeze()/adata.obs['total_counts']\n",
    "    \n",
    "    # add sample name to obs names\n",
    "    adata.obs[\"sample\"] = [str(i) for i in adata.obs['sample']]\n",
    "    adata.obs_names = 's' + adata.obs[\"sample\"] \\\n",
    "                          + '_' + adata.obs_names\n",
    "    adata.obs.index.name = 'spot_id'\n",
    "    \n",
    "    file = list(adata.uns['spatial'].keys())[0]\n",
    "    adata.uns['spatial'][sample_name] = adata.uns['spatial'][file].copy()\n",
    "    del adata.uns['spatial'][file]\n",
    "    print(adata.uns['spatial'].keys())\n",
    "    \n",
    "    return adata"
   ]
  },
  {
   "cell_type": "code",
   "execution_count": null,
   "metadata": {},
   "outputs": [],
   "source": [
    "from anndata import concat\n",
    "\n",
    "def read_all_and_qc(path,\n",
    "    sample_annot, Sample_ID_col, spot_selection, \n",
    "    count_file='filtered_feature_bc_matrix.h5',\n",
    "):\n",
    "    \"\"\"\n",
    "    Read and concatenate all Visium files.\n",
    "    \"\"\"\n",
    "\n",
    "    # read all samples and store them in a list\n",
    "    adatas = []\n",
    "    for i, s in enumerate(sample_annot[Sample_ID_col]):\n",
    "        adata_i = read_and_qc(path, s, count_file=count_file)\n",
    "        spots_i = spot_selection[spot_selection['Sample'] == 'D'+s]  \n",
    "\n",
    "        prefix = 's'+s+'_'\n",
    "        vals = prefix + spots_i['barcode'].astype(str)\n",
    "        \n",
    "        adata_i = adata_i[adata_i.obs_names.isin(vals), :]\n",
    "        adatas.append(adata_i)\n",
    "    # combine individual samples\n",
    "    adata = concat(\n",
    "        adatas,\n",
    "        merge=\"unique\",\n",
    "        uns_merge=\"unique\",\n",
    "        label=\"batch\",\n",
    "        keys=sample_annot[Sample_ID_col].tolist(), \n",
    "        index_unique=None\n",
    "    )\n",
    "\n",
    "    sample_annot.index = sample_annot[Sample_ID_col]\n",
    "    for c in sample_annot.columns:\n",
    "        sample_annot.loc[:, c] = sample_annot[c].astype(str)\n",
    "    adata.obs[sample_annot.columns] = sample_annot.reindex(index=adata.obs['sample']).values\n",
    "\n",
    "    return adata\n",
    "\n"
   ]
  },
  {
   "cell_type": "code",
   "execution_count": null,
   "metadata": {},
   "outputs": [],
   "source": [
    "sp_data_folder = './data/'\n",
    "sample_data = pd.read_csv(sp_data_folder + 'ST_samples.csv')\n",
    "\n",
    "sample_data"
   ]
  },
  {
   "cell_type": "code",
   "execution_count": null,
   "metadata": {},
   "outputs": [],
   "source": [
    "spot_selection = pd.read_csv('./spots.selected.txt', delimiter=\"\\t\")\n",
    "\n",
    "spot_selection"
   ]
  },
  {
   "cell_type": "code",
   "execution_count": null,
   "metadata": {},
   "outputs": [],
   "source": [
    "\n",
    "adata = read_all_and_qc(\n",
    "    path=sp_data_folder+'/rawdata/', \n",
    "    sample_annot=sample_data, \n",
    "    Sample_ID_col='sample_name', \n",
    "    spot_selection=spot_selection,\n",
    "    count_file='filtered_feature_bc_matrix.h5',\n",
    ")\n",
    "\n",
    "adata"
   ]
  },
  {
   "cell_type": "code",
   "execution_count": null,
   "metadata": {},
   "outputs": [],
   "source": [
    "spot_selection.shape"
   ]
  },
  {
   "cell_type": "code",
   "execution_count": null,
   "metadata": {},
   "outputs": [],
   "source": [
    "spot_selection['Sample'].value_counts()"
   ]
  },
  {
   "cell_type": "code",
   "execution_count": null,
   "metadata": {},
   "outputs": [],
   "source": [
    "adata.obs['sample'].value_counts()"
   ]
  },
  {
   "cell_type": "code",
   "execution_count": null,
   "metadata": {},
   "outputs": [],
   "source": [
    "def select_slide(adata, s, s_col='sample'):\n",
    "    r\"\"\" This function selects the data for one slide from the spatial anndata object.\n",
    "\n",
    "    :param adata: Anndata object with multiple spatial experiments\n",
    "    :param s: name of selected experiment\n",
    "    :param s_col: column in adata.obs listing experiment name for each location\n",
    "    \"\"\"\n",
    "\n",
    "    slide = adata[adata.obs[s_col].isin([s]), :]\n",
    "    s_keys = list(slide.uns['spatial'].keys())\n",
    "    s_spatial = np.array(s_keys)[[s in k for k in s_keys]][0]\n",
    "\n",
    "    slide.uns['spatial'] = {s_spatial: slide.uns['spatial'][s_spatial]}\n",
    "\n",
    "    return slide"
   ]
  },
  {
   "cell_type": "code",
   "execution_count": null,
   "metadata": {},
   "outputs": [],
   "source": [
    "adata.write(filename='st.h5ad')"
   ]
  }
 ],
 "metadata": {
  "kernelspec": {
   "display_name": "cell2location_cuda118_torch22",
   "language": "python",
   "name": "python3"
  },
  "language_info": {
   "codemirror_mode": {
    "name": "ipython",
    "version": 3
   },
   "file_extension": ".py",
   "mimetype": "text/x-python",
   "name": "python",
   "nbconvert_exporter": "python",
   "pygments_lexer": "ipython3",
   "version": "3.10.16"
  }
 },
 "nbformat": 4,
 "nbformat_minor": 2
}
