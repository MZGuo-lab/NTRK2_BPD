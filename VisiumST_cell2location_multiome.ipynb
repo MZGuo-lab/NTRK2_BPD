{
 "cells": [
  {
   "cell_type": "code",
   "execution_count": null,
   "id": "b915335b",
   "metadata": {},
   "outputs": [],
   "source": [
    "import sys\n",
    "import scanpy as sc\n",
    "import numpy as np\n",
    "import matplotlib.pyplot as plt\n",
    "import matplotlib as mpl\n",
    "import pandas as pd\n",
    "import seaborn as sns\n",
    "import scvi\n",
    "\n",
    "import cell2location\n",
    "\n",
    "from matplotlib import rcParams\n",
    "rcParams['pdf.fonttype'] = 42 # enables correct plotting of text for PDFs\n",
    "\n",
    "###\n",
    "results_folder = './results/BPD/'\n",
    "\n",
    "# create paths and names to results folders for reference regression and cell2location models\n",
    "ref_run_name = f'{results_folder}/ref_multiome_sc'\n",
    "run_name = f'{results_folder}/ref_multiome_sp'"
   ]
  },
  {
   "cell_type": "markdown",
   "id": "598da7e1",
   "metadata": {},
   "source": [
    "### Load single cell reference"
   ]
  },
  {
   "cell_type": "code",
   "execution_count": null,
   "id": "804374b1",
   "metadata": {},
   "outputs": [],
   "source": [
    "# single cell reference\n",
    "#####################################################################################################\n",
    "#####################################################################################################\n",
    "\n",
    "adata_ref = sc.read(f'./data/sc/Multiome_SoupX_BPD_Control.h5ad')\n",
    "\n",
    "# cell2location requires unnormalized counts\n",
    "adata_ref = adata_ref.raw.to_adata()\n",
    "\n",
    "adata_ref"
   ]
  },
  {
   "cell_type": "code",
   "execution_count": null,
   "id": "f1014b28",
   "metadata": {},
   "outputs": [],
   "source": [
    "\n",
    "from cell2location.utils.filtering import filter_genes\n",
    "selected = filter_genes(adata_ref, cell_count_cutoff=5, cell_percentage_cutoff2=0.03, nonz_mean_cutoff=1.12)\n",
    "\n",
    "# filter the object\n",
    "adata_ref = adata_ref[:, selected].copy()\n",
    "\n",
    "adata_ref"
   ]
  },
  {
   "cell_type": "markdown",
   "id": "83f0f5df",
   "metadata": {},
   "source": [
    "## Estimation of reference cell type signatures (NB regression)"
   ]
  },
  {
   "cell_type": "code",
   "execution_count": null,
   "id": "0774f4df",
   "metadata": {},
   "outputs": [],
   "source": [
    "# prepare anndata for the regression model\n",
    "cell2location.models.RegressionModel.setup_anndata(adata=adata_ref,\n",
    "                        # 10X reaction / sample / batch\n",
    "                        batch_key='DonorID',\n",
    "                        # cell type, covariate used for constructing signatures\n",
    "                        labels_key='Celltype',\n",
    "                        # multiplicative technical effects (platform, 3' vs 5', donor effect)\n",
    "                        categorical_covariate_keys=None\n",
    "                       )\n",
    "\n",
    "# create and train the regression model\n",
    "from cell2location.models import RegressionModel\n",
    "mod = RegressionModel(adata_ref)\n",
    "\n",
    "mod.view_anndata_setup()"
   ]
  },
  {
   "cell_type": "markdown",
   "id": "7e98a7eb",
   "metadata": {},
   "source": [
    "train the model to estimate the reference cell type signatures"
   ]
  },
  {
   "cell_type": "code",
   "execution_count": null,
   "id": "1d624b97",
   "metadata": {},
   "outputs": [],
   "source": [
    "# Use all data for training (validation not implemented yet, train_size=1)\n",
    "mod.train(max_epochs=1000, batch_size=2500, \n",
    "          #train_size=1, lr=0.002, \n",
    "          #use_gpu=True\n",
    "          )"
   ]
  },
  {
   "cell_type": "markdown",
   "id": "8ad2a7c0",
   "metadata": {},
   "source": [
    "Determine if the model needs more training. If it is still decreasing, increase max_epochs."
   ]
  },
  {
   "cell_type": "code",
   "execution_count": null,
   "id": "2083fa6e",
   "metadata": {},
   "outputs": [],
   "source": [
    "mod.plot_history(20)"
   ]
  },
  {
   "cell_type": "code",
   "execution_count": null,
   "id": "170de338",
   "metadata": {},
   "outputs": [],
   "source": [
    "# Save model\n",
    "mod.save(f\"{ref_run_name}\", overwrite=True)"
   ]
  },
  {
   "cell_type": "markdown",
   "id": "85be7668",
   "metadata": {},
   "source": [
    "export the estimated cell abundance (summary of the posterior distribution)"
   ]
  },
  {
   "cell_type": "code",
   "execution_count": null,
   "id": "2a47e7df",
   "metadata": {},
   "outputs": [],
   "source": [
    "# In this section, we export the estimated cell abundance (summary of the posterior distribution).\n",
    "adata_ref = mod.export_posterior(\n",
    "    adata_ref, sample_kwargs={'num_samples': 1000, 'batch_size': 2500}\n",
    ")"
   ]
  },
  {
   "cell_type": "code",
   "execution_count": null,
   "id": "9169eeef",
   "metadata": {},
   "outputs": [],
   "source": [
    "adata_ref.var"
   ]
  },
  {
   "cell_type": "code",
   "execution_count": null,
   "id": "8e62a361",
   "metadata": {},
   "outputs": [],
   "source": [
    "adata_ref.var.rename(columns={'_index': 'ENSEMBL'}, inplace=True)\n",
    "adata_ref.var_names = adata_ref.var['ENSEMBL']\n",
    "adata_ref.var.drop(columns='ENSEMBL', inplace=True)"
   ]
  },
  {
   "cell_type": "code",
   "execution_count": null,
   "id": "d5efa7e0",
   "metadata": {},
   "outputs": [],
   "source": [
    "adata_ref.var"
   ]
  },
  {
   "cell_type": "code",
   "execution_count": null,
   "id": "35500b9c",
   "metadata": {},
   "outputs": [],
   "source": [
    "# Save anndata object with results\n",
    "adata_file = f\"{ref_run_name}/sc.h5ad\"\n",
    "adata_ref.write(adata_file)\n",
    "adata_file"
   ]
  },
  {
   "cell_type": "code",
   "execution_count": null,
   "id": "dc386e60",
   "metadata": {},
   "outputs": [],
   "source": [
    "mod.plot_QC()"
   ]
  },
  {
   "cell_type": "markdown",
   "id": "3e7b5f4d",
   "metadata": {},
   "source": [
    "Deconvolution analysis"
   ]
  },
  {
   "cell_type": "code",
   "execution_count": null,
   "id": "fbe26dac",
   "metadata": {},
   "outputs": [],
   "source": [
    "import sys\n",
    "import scanpy as sc\n",
    "import numpy as np\n",
    "import matplotlib.pyplot as plt\n",
    "import matplotlib as mpl\n",
    "import pandas as pd\n",
    "import seaborn as sns\n",
    "import scvi\n",
    "\n",
    "import cell2location\n",
    "\n",
    "from matplotlib import rcParams\n",
    "rcParams['pdf.fonttype'] = 42 # enables correct plotting of text for PDFs\n",
    "\n",
    "###\n",
    "results_folder = './results/BPD/'\n",
    "\n",
    "# create paths and names to results folders for reference regression and cell2location models\n",
    "ref_run_name = f'{results_folder}/ref_multiome_sc'\n",
    "run_name = f'{results_folder}/ref_st_multiome'"
   ]
  },
  {
   "cell_type": "code",
   "execution_count": null,
   "id": "f69f9012",
   "metadata": {},
   "outputs": [],
   "source": [
    "adata_file = f\"{ref_run_name}/sc.h5ad\"\n",
    "adata_ref = sc.read_h5ad(adata_file)\n",
    "adata_ref"
   ]
  },
  {
   "cell_type": "code",
   "execution_count": null,
   "id": "e5b5246c",
   "metadata": {},
   "outputs": [],
   "source": [
    "# export estimated expression in each cluster\n",
    "if 'means_per_cluster_mu_fg' in adata_ref.varm.keys():\n",
    "    inf_aver = adata_ref.varm['means_per_cluster_mu_fg'][[f'means_per_cluster_mu_fg_{i}'\n",
    "                                    for i in adata_ref.uns['mod']['factor_names']]].copy()\n",
    "else:\n",
    "    inf_aver = adata_ref.var[[f'means_per_cluster_mu_fg_{i}'\n",
    "                                    for i in adata_ref.uns['mod']['factor_names']]].copy()\n",
    "inf_aver.columns = adata_ref.uns['mod']['factor_names']\n",
    "inf_aver.iloc[0:5, 0:5]"
   ]
  },
  {
   "cell_type": "code",
   "execution_count": null,
   "id": "cf6d79bd",
   "metadata": {},
   "outputs": [],
   "source": [
    "adata_vis = sc.read_h5ad(filename=\"st.h5ad\")\n",
    "adata_vis"
   ]
  },
  {
   "cell_type": "code",
   "execution_count": null,
   "id": "61d539a5",
   "metadata": {},
   "outputs": [],
   "source": [
    "# find shared genes and subset both anndata and reference signatures\n",
    "intersect = np.intersect1d(adata_vis.var_names, inf_aver.index)\n",
    "adata_vis = adata_vis[:, intersect].copy()\n",
    "inf_aver = inf_aver.loc[intersect, :].copy()\n",
    "\n",
    "# prepare anndata for cell2location model\n",
    "cell2location.models.Cell2location.setup_anndata(adata=adata_vis, batch_key=\"sample\")"
   ]
  },
  {
   "cell_type": "code",
   "execution_count": null,
   "id": "fb857547",
   "metadata": {},
   "outputs": [],
   "source": [
    "# create and train the model\n",
    "mod = cell2location.models.Cell2location(\n",
    "    adata_vis, cell_state_df=inf_aver,\n",
    "    # the expected average cell abundance: tissue-dependent\n",
    "    # hyper-prior which can be estimated from paired histology:\n",
    "    N_cells_per_location=8,\n",
    "    # hyperparameter controlling normalisation of\n",
    "    # within-experiment variation in RNA detection:\n",
    "    #detection_alpha=20\n",
    ")\n",
    "mod.view_anndata_setup()"
   ]
  },
  {
   "cell_type": "code",
   "execution_count": null,
   "id": "908aa3c0",
   "metadata": {},
   "outputs": [],
   "source": [
    "mod.train(max_epochs=30000,\n",
    "          # train using full data (batch_size=None)\n",
    "          batch_size=None,\n",
    "          # use all data points in training because\n",
    "          # we need to estimate cell abundance at all locations\n",
    "          train_size=1,\n",
    "         )"
   ]
  },
  {
   "cell_type": "code",
   "execution_count": null,
   "id": "2a8f3396",
   "metadata": {},
   "outputs": [],
   "source": [
    "# Save model\n",
    "mod.save(f\"{run_name}\", overwrite=True)"
   ]
  },
  {
   "cell_type": "code",
   "execution_count": null,
   "id": "c931161a",
   "metadata": {},
   "outputs": [],
   "source": [
    "# In this section, we export the estimated cell abundance (summary of the posterior distribution).\n",
    "adata_vis = mod.export_posterior(\n",
    "    adata_vis, sample_kwargs={'num_samples': 1000, 'batch_size': mod.adata.n_obs}\n",
    ")"
   ]
  },
  {
   "cell_type": "code",
   "execution_count": null,
   "id": "274bef91",
   "metadata": {},
   "outputs": [],
   "source": [
    "# Save anndata object with results\n",
    "adata_file = f\"{run_name}/sp.h5ad\"\n",
    "adata_vis.write(adata_file)\n",
    "adata_file"
   ]
  },
  {
   "cell_type": "code",
   "execution_count": null,
   "id": "36db846c",
   "metadata": {},
   "outputs": [],
   "source": [
    "mod.plot_QC()"
   ]
  },
  {
   "cell_type": "code",
   "execution_count": null,
   "id": "232c0a5b",
   "metadata": {},
   "outputs": [],
   "source": [
    "fig = mod.plot_spatial_QC_across_batches()"
   ]
  },
  {
   "cell_type": "code",
   "execution_count": null,
   "id": "6b7236fb",
   "metadata": {},
   "outputs": [],
   "source": [
    "cell2location.utils.list_imported_modules()"
   ]
  }
 ],
 "metadata": {
  "kernelspec": {
   "display_name": "cell2location_cuda118_torch22",
   "language": "python",
   "name": "python3"
  },
  "language_info": {
   "codemirror_mode": {
    "name": "ipython",
    "version": 3
   },
   "file_extension": ".py",
   "mimetype": "text/x-python",
   "name": "python",
   "nbconvert_exporter": "python",
   "pygments_lexer": "ipython3",
   "version": "3.10.16"
  }
 },
 "nbformat": 4,
 "nbformat_minor": 5
}
