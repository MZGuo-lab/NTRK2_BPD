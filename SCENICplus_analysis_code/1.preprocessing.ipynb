{
 "cells": [
  {
   "cell_type": "code",
   "execution_count": null,
   "id": "4f499693-4ba2-435a-8dd8-f9f060e51295",
   "metadata": {},
   "outputs": [],
   "source": [
    "import os\n",
    "import pickle\n",
    "import pycisTopic\n",
    "import scenicplus\n",
    "print(scenicplus.__file__)"
   ]
  },
  {
   "cell_type": "code",
   "execution_count": null,
   "id": "32ae91e1-f760-4fa2-b47a-427da3992101",
   "metadata": {},
   "outputs": [],
   "source": [
    "import pycisTopic\n",
    "print(pycisTopic.__version__)\n",
    "import scenicplus\n",
    "print(scenicplus.__version__)"
   ]
  },
  {
   "cell_type": "code",
   "execution_count": null,
   "id": "db8c7f09-e677-4e58-96a9-72d2104a6914",
   "metadata": {},
   "outputs": [],
   "source": [
    "import os\n",
    "os.environ\n",
    "print(os.environ['CONDA_DEFAULT_ENV'])"
   ]
  },
  {
   "cell_type": "code",
   "execution_count": null,
   "id": "9748d253-fc01-4d48-b432-ecc7cb4020a0",
   "metadata": {},
   "outputs": [],
   "source": [
    "import sys\n",
    "import os\n",
    "\n",
    "print(\"Python executable:\", sys.executable)\n",
    "print(\"Environment name:\", os.path.basename(os.path.dirname(sys.executable)))\n",
    "print(\"Python version:\", sys.version)"
   ]
  },
  {
   "cell_type": "code",
   "execution_count": null,
   "id": "ab2409d7-d866-4b9e-b289-61e9bc518511",
   "metadata": {},
   "outputs": [],
   "source": [
    "print(os.getcwd())"
   ]
  },
  {
   "cell_type": "code",
   "execution_count": 24,
   "id": "c3ebe3de-ac96-43b9-be17-fbd6e7b195fc",
   "metadata": {},
   "outputs": [],
   "source": [
    "import os\n",
    "out_dir = \"outs\"\n",
    "os.makedirs(out_dir, exist_ok = True)\n",
    "temp_dir = 'tmp/'\n",
    "data_path = os.path.join('scenicplus_dir')\n",
    "fragment_path = os.path.join(data_path, 'data/fragment/BPD_Control_EC_fragments.tsv.gz')\n",
    "\n",
    "group_col = 'Celltype_use'\n",
    "ID_use = 'BPD'\n",
    "genome_use = 'human'\n",
    "peak_use = 'cellranger' ##'signac' or 'sc' or 'cellranger'\n",
    "\n",
    "if peak_use == 'sc':\n",
    "    consensus_peak_path = os.path.join(out_dir, \"consensus_peak_calling/consensus_regions.bed\")\n",
    "elif peak_use == 'signac':\n",
    "    consensus_peak_path = os.path.join(out_dir, \"consensus_peak_calling/consensus_regions_signac_support_ge_1.bed\")\n",
    "elif peak_use == 'cellranger':\n",
    "    consensus_peak_path = os.path.join(out_dir, \"consensus_peak_calling/cellranger.bed\")\n",
    "\n",
    "\n",
    "if genome_use == 'human':\n",
    "    chromsize_link = 'http://hgdownload.cse.ucsc.edu/goldenPath/hg38/bigZips/hg38.chrom.sizes'\n",
    "    path_to_blacklist=\"Resources/blacklist/hg38-blacklist.v2.bed\"\n",
    "    genome_size = 'hs'\n",
    "    ucsc_genome = 'hg38'\n",
    "    ensembl_set = \"hsapiens_gene_ensembl\" \n",
    "    genome = 'Human'\n",
    "    db_path = 'Resources/Database/ENCODE/hg38_screen_v10_clust.regions_vs_motifs.rankings.feather'\n",
    "elif genome_use == 'mouse':\n",
    "    chromsize_link = 'http://hgdownload.cse.ucsc.edu/goldenPath/mm10/bigZips/mm10.chrom.sizes'\n",
    "    path_to_blacklist=\"Resources/blacklist/mm10-blacklist.v2.bed\"\n",
    "    genome_size = 'mm'\n",
    "    ucsc_genome = 'mm10'\n",
    "    ensembl_set = \"mmusculus_gene_ensembl\" \n",
    "    genome = 'Mouse'\n",
    "    db_path = 'Resources/Database/ENCODE/mm10_screen_v10_clust.regions_vs_motifs.rankings.feather'\n",
    "else:\n",
    "    raise ValueError(f\"Unsupported genome: {genome_use}\")\n",
    "\n",
    "fragments_dict = {\n",
    "    ID_use: f\"{fragment_path}\"\n",
    "}"
   ]
  },
  {
   "cell_type": "markdown",
   "id": "78113206-ef1f-4752-8f91-4eff13a3aa72",
   "metadata": {},
   "source": [
    "# Getting pseudobulk profiles from cell annotation "
   ]
  },
  {
   "cell_type": "code",
   "execution_count": null,
   "id": "99bdd182-d455-4cfa-bcba-bdd88740f20e",
   "metadata": {},
   "outputs": [],
   "source": [
    "#### MUltiome MODE\n",
    "import scanpy as sc\n",
    "import pandas as pd\n",
    "adata = sc.read_h5ad(f\"{data_path}/data/results/h5ad.h5ad\")\n",
    "cell_data = adata.obs\n",
    "cell_data['celltype'] = cell_data[group_col].str.replace(r'\\W', '_', regex=True)\n",
    "cell_data['sample_id'] = ID_use\n",
    "cell_data['barcode'] = cell_data.index.values.astype(str)\n",
    "print(cell_data.shape)\n",
    "uniques = cell_data['celltype'].unique()\n",
    "print(uniques)\n",
    "cell_data\n",
    "print(cell_data['celltype'].value_counts())"
   ]
  },
  {
   "cell_type": "code",
   "execution_count": null,
   "id": "18717853-e5f7-4c36-afb0-21dd89c1c221",
   "metadata": {},
   "outputs": [],
   "source": [
    "chromsizes = pd.read_table(\n",
    "    chromsize_link,\n",
    "    header = None,\n",
    "    names = [\"Chromosome\", \"End\"]\n",
    ")\n",
    "chromsizes.insert(1, \"Start\", 0)\n",
    "chromsizes.head()"
   ]
  },
  {
   "cell_type": "code",
   "execution_count": null,
   "id": "5d014c6f-07a4-40e1-b351-80bbcbe14c2d",
   "metadata": {},
   "outputs": [],
   "source": [
    "from pycisTopic.pseudobulk_peak_calling import export_pseudobulk\n",
    "os.makedirs(os.path.join(out_dir, \"consensus_peak_calling\"), exist_ok = True)\n",
    "os.makedirs(os.path.join(out_dir, \"consensus_peak_calling/pseudobulk_bed_files\"), exist_ok = True)\n",
    "os.makedirs(os.path.join(out_dir, \"consensus_peak_calling/pseudobulk_bw_files\"), exist_ok = True)"
   ]
  },
  {
   "cell_type": "code",
   "execution_count": null,
   "id": "300418c6-0c22-463e-8b27-d1d28d6cd0af",
   "metadata": {},
   "outputs": [],
   "source": [
    "bw_paths, bed_paths = export_pseudobulk(\n",
    "    input_data = cell_data,\n",
    "    variable = \"celltype\",\n",
    "    sample_id_col = \"sample_id\",\n",
    "    chromsizes = chromsizes,\n",
    "    bed_path = os.path.join(out_dir, \"consensus_peak_calling/pseudobulk_bed_files\"),\n",
    "    bigwig_path = os.path.join(out_dir, \"consensus_peak_calling/pseudobulk_bw_files\"),\n",
    "    path_to_fragments = fragments_dict,\n",
    "    n_cpu = 20,\n",
    "    normalize_bigwig = True,\n",
    "    temp_dir = temp_dir,\n",
    "    split_pattern = None\n",
    ")"
   ]
  },
  {
   "cell_type": "code",
   "execution_count": null,
   "id": "362af8f5-8f01-42ad-b108-09029690d315",
   "metadata": {},
   "outputs": [],
   "source": [
    "print(bw_paths)\n",
    "print(bed_paths)"
   ]
  },
  {
   "cell_type": "code",
   "execution_count": null,
   "id": "2e89eb94-fa50-4489-ac76-6ec009cc0d63",
   "metadata": {},
   "outputs": [],
   "source": [
    "with open(os.path.join(out_dir, \"consensus_peak_calling/bw_paths.tsv\"), \"wt\") as f:\n",
    "    for v in bw_paths:\n",
    "        _ = f.write(f\"{v}\\t{bw_paths[v]}\\n\")"
   ]
  },
  {
   "cell_type": "code",
   "execution_count": null,
   "id": "442f74b4-d55a-4213-b1d1-94d4752ad99e",
   "metadata": {},
   "outputs": [],
   "source": [
    "with open(os.path.join(out_dir, \"consensus_peak_calling/bed_paths.tsv\"), \"wt\") as f:\n",
    "    for v in bed_paths:\n",
    "        _ = f.write(f\"{v}\\t{bed_paths[v]}\\n\")"
   ]
  },
  {
   "cell_type": "markdown",
   "id": "cc968d59-33cf-4d0e-bad7-cc414f9ef39e",
   "metadata": {},
   "source": [
    "#  Inferring consensus peaks\n"
   ]
  },
  {
   "cell_type": "code",
   "execution_count": null,
   "id": "2aecdce0-4195-4f97-abce-9df9d78e32fd",
   "metadata": {},
   "outputs": [],
   "source": [
    "bw_paths = {}\n",
    "with open(os.path.join(out_dir, \"consensus_peak_calling/bw_paths.tsv\")) as f:\n",
    "    for line in f:\n",
    "        v, p = line.strip().split(\"\\t\")\n",
    "        bw_paths.update({v: p})"
   ]
  },
  {
   "cell_type": "code",
   "execution_count": null,
   "id": "def331f6-fd32-4692-830d-fc24f577f6da",
   "metadata": {},
   "outputs": [],
   "source": [
    "bed_paths = {}\n",
    "with open(os.path.join(out_dir, \"consensus_peak_calling/bed_paths.tsv\")) as f:\n",
    "    for line in f:\n",
    "        v, p = line.strip().split(\"\\t\")\n",
    "        bed_paths.update({v: p})"
   ]
  },
  {
   "cell_type": "code",
   "execution_count": null,
   "id": "2c8b511b-acf5-40ff-ba99-202a52565e2b",
   "metadata": {},
   "outputs": [],
   "source": [
    "print(bed_paths)"
   ]
  },
  {
   "cell_type": "code",
   "execution_count": null,
   "id": "6c072dd6-d9fd-43e8-aa36-70dcdc4b46dd",
   "metadata": {},
   "outputs": [],
   "source": [
    "from pycisTopic.pseudobulk_peak_calling import peak_calling\n",
    "macs_path = \"macs2\"\n",
    "\n",
    "os.makedirs(os.path.join(out_dir, \"consensus_peak_calling/MACS\"), exist_ok = True)\n",
    "\n",
    "narrow_peak_dict = peak_calling(\n",
    "    macs_path = macs_path,\n",
    "    bed_paths = bed_paths,\n",
    "    outdir = os.path.join(out_dir, \"consensus_peak_calling/MACS\"),\n",
    "    genome_size = genome_size,\n",
    "    n_cpu = 8,\n",
    "    input_format = 'BEDPE',\n",
    "    shift = 73,\n",
    "    ext_size = 146,\n",
    "    keep_dup = 'all',\n",
    "    q_value = 0.05,\n",
    "    _temp_dir = temp_dir\n",
    ")"
   ]
  },
  {
   "cell_type": "code",
   "execution_count": null,
   "id": "91824c09-3552-47ec-b1d6-27848660d1f0",
   "metadata": {},
   "outputs": [],
   "source": [
    "from pycisTopic.iterative_peak_calling import get_consensus_peaks\n",
    "# Other param\n",
    "peak_half_width=250\n",
    "path_to_blacklist=path_to_blacklist\n",
    "# Get consensus peaks\n",
    "consensus_peaks = get_consensus_peaks(\n",
    "    narrow_peaks_dict = narrow_peak_dict,\n",
    "    peak_half_width = peak_half_width,\n",
    "    chromsizes = chromsizes,\n",
    "    path_to_blacklist = path_to_blacklist)"
   ]
  },
  {
   "cell_type": "code",
   "execution_count": null,
   "id": "2c35c3f9-482a-4c78-bb04-259e57506ae8",
   "metadata": {},
   "outputs": [],
   "source": [
    "consensus_peaks.to_bed(\n",
    "    path = os.path.join(out_dir, \"consensus_peak_calling/consensus_regions.bed\"),\n",
    "    keep =True,\n",
    "    compression = 'infer',\n",
    "    chain = False)"
   ]
  },
  {
   "cell_type": "markdown",
   "id": "399c00cd-6fea-4725-9c16-aa268f10300f",
   "metadata": {},
   "source": [
    "# QC"
   ]
  },
  {
   "cell_type": "code",
   "execution_count": null,
   "id": "3efceb70-2007-430e-b269-bacc1d628b56",
   "metadata": {},
   "outputs": [],
   "source": [
    "import subprocess\n",
    "import tempfile\n",
    "from pathlib import Path\n",
    "import os"
   ]
  },
  {
   "cell_type": "code",
   "execution_count": null,
   "id": "9a8a82da-c1b3-425c-a69f-f9ffbb3f2924",
   "metadata": {},
   "outputs": [],
   "source": [
    "# JUPYTER CELL\n",
    "import os\n",
    "import pandas as pd\n",
    "import polars as pl\n",
    "from pybiomart import Dataset\n",
    "from pycisTopic.gene_annotation import change_chromosome_source_in_bed, write_tss_annotation_to_bed\n",
    "\n",
    "# Expected in session:\n",
    "#   ensembl_set = \"hsapiens_gene_ensembl\"  # or \"mmusculus_gene_ensembl\"\n",
    "#   ucsc_genome = \"hg38\"                   # or \"mm10\"\n",
    "out_path = \"outs/qc/tss.bed\"\n",
    "\n",
    "# 0) choose Ensembl host (hostname only; no https://)\n",
    "if ucsc_genome == \"hg38\":\n",
    "    host = \"www.ensembl.org\"                 # GRCh38\n",
    "    chroms = [str(i) for i in range(1, 23)] + [\"X\", \"Y\", \"MT\"]\n",
    "elif ucsc_genome == \"mm10\":\n",
    "    host = \"jul2020.archive.ensembl.org\"      # GRCm38/mm10\n",
    "    chroms = [str(i) for i in range(1, 20)] + [\"X\", \"Y\", \"MT\"]\n",
    "else:\n",
    "    raise ValueError(f\"Unsupported ucsc_genome: {ucsc_genome}\")\n",
    "\n",
    "print(f\"[TSS] BioMart dataset={ensembl_set}, host={host}, UCSC={ucsc_genome}\")\n",
    "\n",
    "# 1) Fetch per-transcript TSS (dtype-safe)\n",
    "ds = Dataset(name=ensembl_set, host=host, use_cache=True)\n",
    "df = ds.query(\n",
    "    attributes=[\n",
    "        \"chromosome_name\",\n",
    "        \"transcription_start_site\",\n",
    "        \"strand\",\n",
    "        \"external_gene_name\",\n",
    "        \"transcript_biotype\",\n",
    "        \"ensembl_transcript_id\",  # ensure per-transcript granularity\n",
    "    ],\n",
    "    filters={\"transcript_biotype\": [\"protein_coding\"]},\n",
    ")\n",
    "\n",
    "# Normalize column names\n",
    "df = df.rename(columns={\n",
    "    \"Chromosome/scaffold name\": \"chromosome_name\",\n",
    "    \"Transcription start site (TSS)\": \"transcription_start_site\",\n",
    "    \"External gene name\": \"external_gene_name\",\n",
    "    \"Gene name\": \"external_gene_name\",\n",
    "    \"Transcript type\": \"transcript_biotype\",\n",
    "    \"Strand\": \"strand\",\n",
    "    \"Ensembl Transcript ID\": \"ensembl_transcript_id\",\n",
    "})\n",
    "\n",
    "# Coerce everything to string to avoid ArrowTypeError in Polars\n",
    "for c in df.columns:\n",
    "    df[c] = df[c].astype(\"string\")\n",
    "\n",
    "# Keep primary chromosomes only (match UCSC main set)\n",
    "df = df[df[\"chromosome_name\"].isin(chroms)].copy()\n",
    "\n",
    "# 2) Build Polars BED-like frame (per-transcript, 1-bp TSS)\n",
    "tss_pl = pl.from_pandas(df).select(\n",
    "    [\n",
    "        pl.col(\"chromosome_name\").alias(\"Chromosome\"),\n",
    "        (pl.col(\"transcription_start_site\").cast(pl.Int64) - 1).cast(pl.Int32).alias(\"Start\"),\n",
    "        pl.col(\"transcription_start_site\").cast(pl.Int64).cast(pl.Int32).alias(\"End\"),\n",
    "        pl.col(\"external_gene_name\").alias(\"Gene\"),\n",
    "        pl.lit(\".\").alias(\"Score\"),\n",
    "        pl.when(pl.col(\"strand\").cast(pl.Int32) == 1)\n",
    "          .then(pl.lit(\"+\"))\n",
    "          .otherwise(\n",
    "              pl.when(pl.col(\"strand\").cast(pl.Int32) == -1)\n",
    "                .then(pl.lit(\"-\"))\n",
    "                .otherwise(pl.lit(\".\"))\n",
    "          ).alias(\"Strand\"),\n",
    "        pl.col(\"transcript_biotype\").alias(\"Transcript_type\"),\n",
    "    ]\n",
    ")\n",
    "\n",
    "# 3) Build the chromosome alias table manually (Ensembl -> UCSC)\n",
    "#    Ensembl names: 1..22/X/Y/MT ; UCSC: chr1..chr22/chrX/chrY/chrM\n",
    "ensembl_names = chroms\n",
    "ucsc_names = [(\"chrM\" if c == \"MT\" else \"chr\" + c) for c in ensembl_names]\n",
    "alias_pl = pl.DataFrame({\"ensembl\": ensembl_names, \"ucsc\": ucsc_names})\n",
    "\n",
    "# 4) Convert names using your version's signature:\n",
    "#    change_chromosome_source_in_bed(alias_table, bed_df, \"ensembl\", \"ucsc\")\n",
    "tss_pl_ucsc = change_chromosome_source_in_bed(alias_pl, tss_pl, \"ensembl\", \"ucsc\")\n",
    "\n",
    "# 5) Write BED with the exact header the CLI writes\n",
    "os.makedirs(os.path.dirname(out_path), exist_ok=True)\n",
    "write_tss_annotation_to_bed(tss_pl_ucsc, out_path)\n",
    "\n",
    "print(\"Columns:\", tss_pl_ucsc.columns)\n",
    "print(tss_pl_ucsc.head())\n",
    "print(f\"Wrote {out_path}\")\n"
   ]
  },
  {
   "cell_type": "code",
   "execution_count": null,
   "id": "69379e9a-0c85-46d0-a547-44c11f3104de",
   "metadata": {},
   "outputs": [],
   "source": [
    "# ---- Command block ----\n",
    "cmd = f\"\"\"\n",
    "\n",
    "module load anaconda3\n",
    "source activate scenicplus_rhel9\n",
    "\n",
    "#pycistopic tss gene_annotation_list | grep -i {genome}\n",
    "#mkdir -p outs/qc\n",
    "#pycistopic tss get_tss --output outs/qc/tss.bed --name \"{ensembl_set}\" --to-chrom-source ucsc --ucsc {ucsc_genome}\n",
    "#head outs/qc/tss.bed | column -t\n",
    "pycistopic qc --fragments {fragments_dict[ID_use]} \\\n",
    "              --regions {consensus_peak_path} \\\n",
    "              --tss outs/qc/tss.bed \\\n",
    "              --output outs/qc/{ID_use}\n",
    "\"\"\"\n",
    "\n",
    "# ---- Run everything in one bash shell ----\n",
    "res = subprocess.run([\"bash\", \"-lc\", cmd], text=True, capture_output=True)\n",
    "\n",
    "print(res.stdout)\n",
    "if res.returncode != 0:\n",
    "    print(res.stderr)\n",
    "    raise SystemExit(res.returncode)"
   ]
  },
  {
   "cell_type": "code",
   "execution_count": null,
   "id": "605df98c-43fb-468f-86dd-b27dd17c7674",
   "metadata": {},
   "outputs": [],
   "source": [
    "regions_bed_filename = os.path.join(consensus_peak_path)\n",
    "tss_bed_filename = os.path.join(out_dir, \"qc\", \"tss.bed\")"
   ]
  },
  {
   "cell_type": "code",
   "execution_count": null,
   "id": "dae3dd2b-748d-4a4b-869d-165df8329504",
   "metadata": {},
   "outputs": [],
   "source": [
    "from pycisTopic.plotting.qc_plot import plot_sample_stats, plot_barcode_stats\n",
    "import matplotlib.pyplot as plt"
   ]
  },
  {
   "cell_type": "code",
   "execution_count": null,
   "id": "c4bb7a90-49c3-49dc-a5e1-6fbcc0fcf08f",
   "metadata": {},
   "outputs": [],
   "source": [
    "for sample_id in fragments_dict:\n",
    "    fig = plot_sample_stats(\n",
    "        sample_id = sample_id,\n",
    "        pycistopic_qc_output_dir = \"outs/qc\"\n",
    "    )"
   ]
  },
  {
   "cell_type": "code",
   "execution_count": null,
   "id": "f753ae53-1fd9-424a-a3cc-53d8ecac36ca",
   "metadata": {},
   "outputs": [],
   "source": [
    "from pycisTopic.qc import get_barcodes_passing_qc_for_sample\n",
    "sample_id_to_barcodes_passing_filters = {}\n",
    "sample_id_to_thresholds = {}\n",
    "for sample_id in fragments_dict:\n",
    "    (\n",
    "        sample_id_to_barcodes_passing_filters[sample_id],\n",
    "        sample_id_to_thresholds[sample_id]\n",
    "    ) = get_barcodes_passing_qc_for_sample(\n",
    "            sample_id = sample_id,\n",
    "            pycistopic_qc_output_dir = \"outs/qc\",\n",
    "            unique_fragments_threshold = 0, # None, use automatic thresholding\n",
    "            tss_enrichment_threshold = 0, # None, use automatic thresholding\n",
    "            frip_threshold = 0,\n",
    "            use_automatic_thresholds = True,\n",
    "    )"
   ]
  },
  {
   "cell_type": "code",
   "execution_count": null,
   "id": "a962e5d3-ef32-43f9-90f6-c9c1a783c5bd",
   "metadata": {},
   "outputs": [],
   "source": [
    "for sample_id in fragments_dict:\n",
    "    fig = plot_barcode_stats(\n",
    "        sample_id = sample_id,\n",
    "        pycistopic_qc_output_dir = \"outs/qc\",\n",
    "        bc_passing_filters = sample_id_to_barcodes_passing_filters[sample_id],\n",
    "        detailed_title = False,\n",
    "        **sample_id_to_thresholds[sample_id]\n",
    "    )"
   ]
  },
  {
   "cell_type": "markdown",
   "id": "51743b20-5045-41d2-a136-4947f4cc5bf8",
   "metadata": {},
   "source": [
    "# Creating a cisTopic object"
   ]
  },
  {
   "cell_type": "code",
   "execution_count": null,
   "id": "b70230ea-74fe-4b0a-9abe-0aac98ccd7f7",
   "metadata": {},
   "outputs": [],
   "source": [
    "path_to_regions = os.path.join(consensus_peak_path)\n",
    "pycistopic_qc_output_dir = \"outs/qc\"\n",
    "\n",
    "from pycisTopic.cistopic_class import create_cistopic_object_from_fragments\n",
    "import polars as pl\n",
    "\n",
    "cistopic_obj_list = []\n",
    "for sample_id in fragments_dict:\n",
    "    sample_metrics = pl.read_parquet(\n",
    "        os.path.join(pycistopic_qc_output_dir, f'{sample_id}.fragments_stats_per_cb.parquet')\n",
    "    ).to_pandas().set_index(\"CB\").loc[ sample_id_to_barcodes_passing_filters[sample_id] ]\n",
    "    cistopic_obj = create_cistopic_object_from_fragments(\n",
    "        path_to_fragments = fragments_dict[sample_id],\n",
    "        path_to_regions = path_to_regions,\n",
    "        path_to_blacklist = path_to_blacklist,\n",
    "        metrics = sample_metrics,\n",
    "        valid_bc = sample_id_to_barcodes_passing_filters[sample_id],\n",
    "        n_cpu = 1,\n",
    "        project = sample_id,\n",
    "        split_pattern = '__'\n",
    "    )\n",
    "    cistopic_obj_list.append(cistopic_obj)"
   ]
  },
  {
   "cell_type": "code",
   "execution_count": null,
   "id": "a19e7b28-6b26-46f0-b095-e8d4b90eee56",
   "metadata": {},
   "outputs": [],
   "source": [
    "cistopic_obj = cistopic_obj_list[0]\n",
    "print(cistopic_obj)"
   ]
  },
  {
   "cell_type": "code",
   "execution_count": null,
   "id": "25d306b7-44d9-4f4e-9b55-f81ded902982",
   "metadata": {},
   "outputs": [],
   "source": [
    "import pickle\n",
    "pickle.dump(\n",
    "    cistopic_obj,\n",
    "    open(os.path.join(out_dir, \"cistopic_obj.pkl\"), \"wb\")\n",
    ")"
   ]
  },
  {
   "cell_type": "markdown",
   "id": "83131dec-f6aa-4ee9-9b79-b33c2421bbce",
   "metadata": {},
   "source": [
    "# Adding metadata to a cisTopic object"
   ]
  },
  {
   "cell_type": "code",
   "execution_count": null,
   "id": "ec3e57d4-0478-4668-b8bd-67ad648d4b62",
   "metadata": {},
   "outputs": [],
   "source": [
    "#### MUltiome MODE\n",
    "import scanpy as sc\n",
    "import pandas as pd\n",
    "adata = sc.read_h5ad(f\"{data_path}/data/results/h5ad.h5ad\")\n",
    "cell_data = adata.obs\n",
    "cell_data['celltype'] = cell_data[group_col].astype(str)\n",
    "cell_data['celltype'] = cell_data['celltype'].str.replace(r'[ /]', '_', regex=True)\n",
    "cell_data['sample_id'] = ID_use\n",
    "#cell_data['barcode'] = cell_data.index.astype(str) + '-' + ID_use\n",
    "#cell_data.index = cell_data['barcode']\n",
    "print(cell_data.shape)\n",
    "uniques = cell_data['celltype'].unique()\n",
    "print(uniques)\n",
    "cell_data\n",
    "print(cell_data['celltype'].value_counts())"
   ]
  },
  {
   "cell_type": "code",
   "execution_count": null,
   "id": "05579b8a-1f1b-4cf0-8e3b-9d18082789c5",
   "metadata": {},
   "outputs": [],
   "source": [
    "cistopic_obj.add_cell_data(cell_data, split_pattern='__')\n",
    "pickle.dump(\n",
    "    cistopic_obj,\n",
    "    open(os.path.join(out_dir, \"cistopic_obj.pkl\"), \"wb\")\n",
    ")"
   ]
  },
  {
   "cell_type": "code",
   "execution_count": null,
   "id": "a1932115-dbfe-4951-94a6-80cc0f05e950",
   "metadata": {},
   "outputs": [],
   "source": [
    "cistopic_obj.cell_data"
   ]
  },
  {
   "cell_type": "markdown",
   "id": "e5180efc-db91-469e-8a1d-4366e34cffcd",
   "metadata": {},
   "source": [
    "# Run Models"
   ]
  },
  {
   "cell_type": "code",
   "execution_count": null,
   "id": "75e0a88f-6257-4e21-adeb-b2ee568553e0",
   "metadata": {},
   "outputs": [],
   "source": [
    "import subprocess\n",
    "import tempfile"
   ]
  },
  {
   "cell_type": "code",
   "execution_count": null,
   "id": "4c151868-1ac2-480a-99ae-2409958a4d5c",
   "metadata": {},
   "outputs": [],
   "source": [
    "# ---- Command block ----\n",
    "cmd = f\"\"\"\n",
    "module load jdk/1.8.0_40\n",
    "pycistopic topic_modeling mallet --input outs/cistopic_obj.pkl --output outs/models.pkl --topics 5 10 15 20 25 30 35 40 --parallel 20 --keep True -b Mallet-202108/bin/mallet\n",
    "\"\"\"\n",
    "\n",
    "# ---- Run everything in one bash shell ----\n",
    "res = subprocess.run([\"bash\", \"-lc\", cmd], text=True, capture_output=True)\n",
    "\n",
    "print(res.stdout)\n",
    "if res.returncode != 0:\n",
    "    print(res.stderr)\n",
    "    raise SystemExit(res.returncode)"
   ]
  },
  {
   "cell_type": "markdown",
   "id": "1ad7a7a3-6f8f-433d-998d-be65ad239939",
   "metadata": {},
   "source": [
    "# Model selection"
   ]
  },
  {
   "cell_type": "code",
   "execution_count": null,
   "id": "851b6c12-1b49-471f-9436-5639bfb0e8ca",
   "metadata": {},
   "outputs": [],
   "source": [
    "from pycisTopic.lda_models import evaluate_models\n",
    "import pickle\n",
    "models = pickle.load(open(os.path.join(out_dir, \"models.pkl\"), \"rb\"))"
   ]
  },
  {
   "cell_type": "code",
   "execution_count": null,
   "id": "669f5076-70dc-439b-825f-ebeede437192",
   "metadata": {},
   "outputs": [],
   "source": [
    "model = evaluate_models(\n",
    "    models,\n",
    "    select_model = None,\n",
    "    return_model = True,\n",
    "    figsize = (12,5)\n",
    ")"
   ]
  },
  {
   "cell_type": "code",
   "execution_count": null,
   "id": "7317fb9a-b1de-48cf-a0b1-54340d23c0e3",
   "metadata": {},
   "outputs": [],
   "source": [
    "cistopic_obj = pickle.load(\n",
    "    open(os.path.join(out_dir, \"cistopic_obj.pkl\"), \"rb\")\n",
    ")"
   ]
  },
  {
   "cell_type": "code",
   "execution_count": null,
   "id": "d41e1b34-a83e-49bc-bfae-5d72d9cdd49f",
   "metadata": {},
   "outputs": [],
   "source": [
    "cistopic_obj.add_LDA_model(model)"
   ]
  },
  {
   "cell_type": "code",
   "execution_count": null,
   "id": "293ecd41-b4f3-4a33-945b-618c13621eac",
   "metadata": {},
   "outputs": [],
   "source": [
    "pickle.dump(\n",
    "    cistopic_obj,\n",
    "    open(os.path.join(out_dir, \"cistopic_obj.pkl\"), \"wb\")\n",
    ")"
   ]
  },
  {
   "cell_type": "markdown",
   "id": "3dd7230d-46f3-4af2-9391-ecf1bf31978e",
   "metadata": {},
   "source": [
    "# Clustering and visualization"
   ]
  },
  {
   "cell_type": "code",
   "execution_count": null,
   "id": "2d37413f-487a-4d15-96b2-6e1a0a0cd448",
   "metadata": {},
   "outputs": [],
   "source": [
    "from pycisTopic.clust_vis import (\n",
    "    find_clusters,\n",
    "    run_umap,\n",
    "    run_tsne,\n",
    "    plot_metadata,\n",
    "    plot_topic,\n",
    "    cell_topic_heatmap\n",
    ")"
   ]
  },
  {
   "cell_type": "code",
   "execution_count": null,
   "id": "7ab54837-0eac-4b35-91df-36e7ae06c3f6",
   "metadata": {},
   "outputs": [],
   "source": [
    "cistopic_obj = pickle.load(\n",
    "    open(os.path.join(out_dir, \"cistopic_obj.pkl\"), \"rb\")\n",
    ")"
   ]
  },
  {
   "cell_type": "code",
   "execution_count": null,
   "id": "7fbf34dd-4dd9-4dd7-82d9-73313153e3a7",
   "metadata": {},
   "outputs": [],
   "source": [
    "find_clusters(\n",
    "    cistopic_obj,\n",
    "    target  = 'cell',\n",
    "    k = 10,\n",
    "    res = [0.6, 1.2, 3],\n",
    "    prefix = 'pycisTopic_',\n",
    "    scale = True,\n",
    "    split_pattern = '__'\n",
    ")"
   ]
  },
  {
   "cell_type": "code",
   "execution_count": null,
   "id": "4f860bca-60a3-4fc1-a4c9-541f59290251",
   "metadata": {},
   "outputs": [],
   "source": [
    "run_umap(\n",
    "    cistopic_obj,\n",
    "    target  = 'cell', scale=True)"
   ]
  },
  {
   "cell_type": "code",
   "execution_count": null,
   "id": "0a23927a-6986-4054-9fd5-adc71d55ac65",
   "metadata": {},
   "outputs": [],
   "source": [
    "run_tsne(\n",
    "    cistopic_obj,\n",
    "    target  = 'cell', scale=True)"
   ]
  },
  {
   "cell_type": "code",
   "execution_count": null,
   "id": "071978b3-26ee-4f9e-8968-871e341ef52f",
   "metadata": {},
   "outputs": [],
   "source": [
    "#cluster the cells based on the topics, see if there could be any subtypes\n",
    "plot_metadata(\n",
    "    cistopic_obj,\n",
    "    reduction_name='UMAP',\n",
    "    variables=['celltype', 'pycisTopic_leiden_10_0.6', 'pycisTopic_leiden_10_1.2', 'pycisTopic_leiden_10_3'],\n",
    "    target='cell', num_columns=4,\n",
    "    text_size=10,\n",
    "    dot_size=5)"
   ]
  },
  {
   "cell_type": "code",
   "execution_count": null,
   "id": "95fe6044-8844-4db4-88d7-a7ee1ff7aa67",
   "metadata": {},
   "outputs": [],
   "source": [
    "# plot continuous values.\n",
    "plot_metadata(\n",
    "    cistopic_obj,\n",
    "    reduction_name='UMAP',\n",
    "    variables=['log10_unique_fragments_count', 'tss_enrichment',  'fraction_of_fragments_in_peaks'],\n",
    "    target='cell', num_columns=4,\n",
    "    text_size=10,\n",
    "    dot_size=5)"
   ]
  },
  {
   "cell_type": "code",
   "execution_count": null,
   "id": "5dc8b06a-4944-4fbd-85c7-c4055c1383ef",
   "metadata": {
    "scrolled": true
   },
   "outputs": [],
   "source": [
    "#visualize the cell-topic contributions.\n",
    "plot_topic(\n",
    "    cistopic_obj,\n",
    "    reduction_name = 'UMAP',\n",
    "    target = 'cell',\n",
    "    num_columns=5\n",
    ")"
   ]
  },
  {
   "cell_type": "code",
   "execution_count": null,
   "id": "7d1c9e3f-d87d-4cfb-b489-8a72b029d6f6",
   "metadata": {},
   "outputs": [],
   "source": [
    "# draw a heatmap with the topic contributions (and annotations)\n",
    "cell_topic_heatmap(\n",
    "    cistopic_obj,\n",
    "    variables=['celltype'],\n",
    "    scale=False,\n",
    "    legend_loc_x=1.0,\n",
    "    legend_loc_y=-1.2,\n",
    "    legend_dist_y=-1,\n",
    "    figsize=(30, 20),\n",
    "    color_dictionary={}\n",
    ")"
   ]
  },
  {
   "cell_type": "code",
   "execution_count": null,
   "id": "ff929653-5dc1-4ca8-aeaa-1d2df84d0919",
   "metadata": {},
   "outputs": [],
   "source": [
    "pickle.dump(\n",
    "    cistopic_obj,\n",
    "    open(os.path.join(out_dir, \"cistopic_obj.pkl\"), \"wb\")\n",
    ")"
   ]
  },
  {
   "cell_type": "markdown",
   "id": "404dd8c3-46ca-4062-996d-2028f2d56559",
   "metadata": {},
   "source": [
    "# Topic binarization & QC"
   ]
  },
  {
   "cell_type": "code",
   "execution_count": null,
   "id": "685e1bf2-db9e-4e06-b200-89f126480876",
   "metadata": {},
   "outputs": [],
   "source": [
    "from pycisTopic.topic_binarization import binarize_topics"
   ]
  },
  {
   "cell_type": "code",
   "execution_count": null,
   "id": "d5e8e3a8-5937-4af5-9e29-6f2225c91cd0",
   "metadata": {},
   "outputs": [],
   "source": [
    "cistopic_obj = pickle.load(\n",
    "    open(os.path.join(out_dir, \"cistopic_obj.pkl\"), \"rb\")\n",
    ")"
   ]
  },
  {
   "cell_type": "code",
   "execution_count": null,
   "id": "ddfeaf68-056c-4760-a7a0-75b8e37546e9",
   "metadata": {
    "scrolled": true
   },
   "outputs": [],
   "source": [
    "region_bin_topics_top_3k = binarize_topics(\n",
    "    cistopic_obj, method='ntop', ntop = 3_000,\n",
    "    plot=True, num_columns=5\n",
    ")"
   ]
  },
  {
   "cell_type": "code",
   "execution_count": null,
   "id": "52f653a7-2865-41c7-a231-1f2b6a4cc947",
   "metadata": {},
   "outputs": [],
   "source": [
    "region_bin_topics_otsu = binarize_topics(\n",
    "    cistopic_obj, method='otsu',\n",
    "    plot=True, num_columns=5\n",
    ")"
   ]
  },
  {
   "cell_type": "code",
   "execution_count": null,
   "id": "034d2916-08cc-4b6b-aba6-d46080b270d8",
   "metadata": {},
   "outputs": [],
   "source": [
    "binarized_cell_topic = binarize_topics(\n",
    "    cistopic_obj,\n",
    "    target='cell',\n",
    "    method='li',\n",
    "    plot=True,\n",
    "    num_columns=5, nbins=100)"
   ]
  },
  {
   "cell_type": "code",
   "execution_count": null,
   "id": "112722ee-d79b-4a7d-acc9-ae1746cd3637",
   "metadata": {},
   "outputs": [],
   "source": [
    "binarized_cell_topic['Topic1']"
   ]
  },
  {
   "cell_type": "code",
   "execution_count": null,
   "id": "b5d49d9a-94b4-475a-b4e8-478953ff851c",
   "metadata": {},
   "outputs": [],
   "source": [
    "from pycisTopic.topic_qc import compute_topic_metrics, plot_topic_qc, topic_annotation\n",
    "import matplotlib.pyplot as plt\n",
    "from pycisTopic.utils import fig2img"
   ]
  },
  {
   "cell_type": "code",
   "execution_count": null,
   "id": "9664bce5-3306-475e-919e-81d29bec6020",
   "metadata": {},
   "outputs": [],
   "source": [
    "topic_qc_metrics = compute_topic_metrics(cistopic_obj)"
   ]
  },
  {
   "cell_type": "code",
   "execution_count": null,
   "id": "2d9fad8a-0e2d-49e8-a89a-9df617d81e0e",
   "metadata": {},
   "outputs": [],
   "source": [
    "fig_dict={}\n",
    "fig_dict['CoherenceVSAssignments']=plot_topic_qc(topic_qc_metrics, var_x='Coherence', var_y='Log10_Assignments', var_color='Gini_index', plot=False, return_fig=True)\n",
    "fig_dict['AssignmentsVSCells_in_bin']=plot_topic_qc(topic_qc_metrics, var_x='Log10_Assignments', var_y='Cells_in_binarized_topic', var_color='Gini_index', plot=False, return_fig=True)\n",
    "fig_dict['CoherenceVSCells_in_bin']=plot_topic_qc(topic_qc_metrics, var_x='Coherence', var_y='Cells_in_binarized_topic', var_color='Gini_index', plot=False, return_fig=True)\n",
    "fig_dict['CoherenceVSRegions_in_bin']=plot_topic_qc(topic_qc_metrics, var_x='Coherence', var_y='Regions_in_binarized_topic', var_color='Gini_index', plot=False, return_fig=True)\n",
    "fig_dict['CoherenceVSMarginal_dist']=plot_topic_qc(topic_qc_metrics, var_x='Coherence', var_y='Marginal_topic_dist', var_color='Gini_index', plot=False, return_fig=True)\n",
    "fig_dict['CoherenceVSGini_index']=plot_topic_qc(topic_qc_metrics, var_x='Coherence', var_y='Gini_index', var_color='Gini_index', plot=False, return_fig=True)"
   ]
  },
  {
   "cell_type": "code",
   "execution_count": null,
   "id": "c98bd898-d5fc-41e4-b25e-ae1fa66fc74d",
   "metadata": {},
   "outputs": [],
   "source": [
    "# Plot topic stats in one figure\n",
    "fig=plt.figure(figsize=(40, 43))\n",
    "i = 1\n",
    "for fig_ in fig_dict.keys():\n",
    "    plt.subplot(2, 3, i)\n",
    "    img = fig2img(fig_dict[fig_]) #To convert figures to png to plot together, see .utils.py. This converts the figure to png.\n",
    "    plt.imshow(img)\n",
    "    plt.axis('off')\n",
    "    i += 1\n",
    "plt.subplots_adjust(wspace=0, hspace=-0.70)\n",
    "plt.show()"
   ]
  },
  {
   "cell_type": "code",
   "execution_count": null,
   "id": "8a3b94ab-206a-4d03-9494-fdb8f87e36df",
   "metadata": {},
   "outputs": [],
   "source": [
    "topic_annot = topic_annotation(\n",
    "    cistopic_obj,\n",
    "    annot_var='celltype',\n",
    "    binarized_cell_topic=binarized_cell_topic,\n",
    "    general_topic_thr = 0.2\n",
    ")"
   ]
  },
  {
   "cell_type": "code",
   "execution_count": null,
   "id": "0cd8a77a-9a9c-4905-9e41-2ff4ad04bc61",
   "metadata": {},
   "outputs": [],
   "source": [
    "topic_annot"
   ]
  },
  {
   "cell_type": "markdown",
   "id": "975d69e1-2503-48eb-ad1e-bdac7b7354db",
   "metadata": {},
   "source": [
    "# Differentially Accessible Regions (DARs)"
   ]
  },
  {
   "cell_type": "code",
   "execution_count": null,
   "id": "02a35df7-7a26-43c5-8038-57785332a0a0",
   "metadata": {},
   "outputs": [],
   "source": [
    "from pycisTopic.diff_features import (\n",
    "    impute_accessibility,\n",
    "    normalize_scores,\n",
    "    find_highly_variable_features,\n",
    "    find_diff_features\n",
    ")\n",
    "import numpy as np"
   ]
  },
  {
   "cell_type": "code",
   "execution_count": null,
   "id": "74f75e7e-bdd5-419f-a6cb-6041428f8e4a",
   "metadata": {},
   "outputs": [],
   "source": [
    "imputed_acc_obj = impute_accessibility(\n",
    "    cistopic_obj,\n",
    "    selected_cells=None,\n",
    "    selected_regions=None,\n",
    "    scale_factor=10**6\n",
    ")"
   ]
  },
  {
   "cell_type": "code",
   "execution_count": null,
   "id": "f6f7098f-bd0d-420a-80e0-46db518b506b",
   "metadata": {},
   "outputs": [],
   "source": [
    "normalized_imputed_acc_obj = normalize_scores(imputed_acc_obj, scale_factor=10**4)"
   ]
  },
  {
   "cell_type": "code",
   "execution_count": null,
   "id": "18e0ed09-ed26-4cd6-a02e-f64be27cb605",
   "metadata": {},
   "outputs": [],
   "source": [
    "variable_regions = find_highly_variable_features(\n",
    "    normalized_imputed_acc_obj,\n",
    "    min_disp = 0.05,\n",
    "    min_mean = 0.0125,\n",
    "    max_mean = 3,\n",
    "    max_disp = np.inf,\n",
    "    n_bins=20,\n",
    "    n_top_features=None,\n",
    "    plot=True\n",
    ")"
   ]
  },
  {
   "cell_type": "code",
   "execution_count": null,
   "id": "06e71850-ae9c-497b-959c-406b6ad181fd",
   "metadata": {},
   "outputs": [],
   "source": [
    "len(variable_regions)"
   ]
  },
  {
   "cell_type": "code",
   "execution_count": null,
   "id": "05c00126-3f1e-4d39-9558-6f02be844a36",
   "metadata": {},
   "outputs": [],
   "source": [
    "markers_dict= find_diff_features(\n",
    "    cistopic_obj,\n",
    "    imputed_acc_obj,\n",
    "    variable='celltype',\n",
    "    var_features=variable_regions,\n",
    "    contrasts=None,\n",
    "    adjpval_thr=0.1,\n",
    "    log2fc_thr=np.log2(1.2),\n",
    "    n_cpu=5,\n",
    "    _temp_dir=temp_dir,\n",
    "    split_pattern = '-'\n",
    ")"
   ]
  },
  {
   "cell_type": "code",
   "execution_count": null,
   "id": "6153a707-ec75-465b-b3e6-f4c3152dc383",
   "metadata": {},
   "outputs": [],
   "source": [
    "from pycisTopic.clust_vis import plot_imputed_features"
   ]
  },
  {
   "cell_type": "code",
   "execution_count": null,
   "id": "7662a0b2-53a6-42ed-99f8-f62229d17f34",
   "metadata": {},
   "outputs": [],
   "source": [
    "markers_dict"
   ]
  },
  {
   "cell_type": "code",
   "execution_count": null,
   "id": "61a69336-77ad-4fca-840b-09328229c798",
   "metadata": {},
   "outputs": [],
   "source": [
    "plot_imputed_features(\n",
    "    cistopic_obj,\n",
    "    reduction_name='UMAP',\n",
    "    imputed_data=imputed_acc_obj,\n",
    "    features=[markers_dict[x].index.tolist()[0] for x in cistopic_obj.cell_data['celltype'].unique()],\n",
    "    scale=False,\n",
    "    num_columns=4\n",
    ")"
   ]
  },
  {
   "cell_type": "code",
   "execution_count": null,
   "id": "1dbd313b-7d8a-44bc-b870-f720d2401e2f",
   "metadata": {},
   "outputs": [],
   "source": [
    "print(\"Number of DARs found:\")\n",
    "print(\"---------------------\")\n",
    "for x in markers_dict:\n",
    "    print(f\"  {x}: {len(markers_dict[x])}\")"
   ]
  },
  {
   "cell_type": "markdown",
   "id": "f2855a85-69f4-4299-95b9-c25d5231f674",
   "metadata": {},
   "source": [
    "# Save Regions"
   ]
  },
  {
   "cell_type": "code",
   "execution_count": null,
   "id": "835587b2-bf6a-4ce4-aa68-9698568146d2",
   "metadata": {},
   "outputs": [],
   "source": [
    "os.makedirs(os.path.join(out_dir, \"region_sets\"), exist_ok = True)\n",
    "os.makedirs(os.path.join(out_dir, \"region_sets\", \"Topics_otsu\"), exist_ok = True)\n",
    "os.makedirs(os.path.join(out_dir, \"region_sets\", \"Topics_top_3k\"), exist_ok = True)\n",
    "os.makedirs(os.path.join(out_dir, \"region_sets\", \"DARs_cell_type\"), exist_ok = True)"
   ]
  },
  {
   "cell_type": "code",
   "execution_count": null,
   "id": "e5e45c07-3d04-493a-a928-caf269013996",
   "metadata": {},
   "outputs": [],
   "source": [
    "from pycisTopic.utils import region_names_to_coordinates"
   ]
  },
  {
   "cell_type": "code",
   "execution_count": null,
   "id": "c48234ca-1437-4139-9ce3-e46b8f149400",
   "metadata": {},
   "outputs": [],
   "source": [
    "for topic in region_bin_topics_otsu:\n",
    "    region_names_to_coordinates(\n",
    "        region_bin_topics_otsu[topic].index\n",
    "    ).sort_values(\n",
    "        [\"Chromosome\", \"Start\", \"End\"]\n",
    "    ).to_csv(\n",
    "        os.path.join(out_dir, \"region_sets\", \"Topics_otsu\", f\"{topic}.bed\"),\n",
    "        sep = \"\\t\",\n",
    "        header = False, index = False\n",
    "    )"
   ]
  },
  {
   "cell_type": "code",
   "execution_count": null,
   "id": "e5870689-3f16-42b2-96f4-cf92221ebe5b",
   "metadata": {},
   "outputs": [],
   "source": [
    "for topic in region_bin_topics_top_3k:\n",
    "    region_names_to_coordinates(\n",
    "        region_bin_topics_top_3k[topic].index\n",
    "    ).sort_values(\n",
    "        [\"Chromosome\", \"Start\", \"End\"]\n",
    "    ).to_csv(\n",
    "        os.path.join(out_dir, \"region_sets\", \"Topics_top_3k\", f\"{topic}.bed\"),\n",
    "        sep = \"\\t\",\n",
    "        header = False, index = False\n",
    "    )"
   ]
  },
  {
   "cell_type": "code",
   "execution_count": null,
   "id": "e1812ba4-ab1e-44ee-af0f-418d7d7fa124",
   "metadata": {},
   "outputs": [],
   "source": [
    "for cell_type in markers_dict:\n",
    "    region_names_to_coordinates(\n",
    "        markers_dict[cell_type].index\n",
    "    ).sort_values(\n",
    "        [\"Chromosome\", \"Start\", \"End\"]\n",
    "    ).to_csv(\n",
    "        os.path.join(out_dir, \"region_sets\", \"DARs_cell_type\", f\"{cell_type}.bed\"),\n",
    "        sep = \"\\t\",\n",
    "        header = False, index = False\n",
    "    )"
   ]
  },
  {
   "cell_type": "code",
   "execution_count": null,
   "id": "a9bb7e01-e2bd-4e3e-86e8-afc32c566f0e",
   "metadata": {},
   "outputs": [],
   "source": [
    "##CHECK OVERLAPS WITH DATABASE, MUST BE > 0\n",
    "\n",
    "import pandas as pd\n",
    "from pyranges import PyRanges\n",
    "import os\n",
    "\n",
    "# Load cistarget db\n",
    "df = pd.read_feather(db_path)\n",
    "\n",
    "regions = pd.Series(df.columns[:-1])\n",
    "db_coords = regions.str.extract(r\"(chr[\\w]+):(\\d+)-(\\d+)\")\n",
    "db_coords.columns = [\"Chromosome\", \"Start\", \"End\"]\n",
    "db_coords[\"Start\"] = db_coords[\"Start\"].astype(int)\n",
    "db_coords[\"End\"] = db_coords[\"End\"].astype(int)\n",
    "db_gr = PyRanges(db_coords)\n",
    "\n",
    "# Check each .bed file in each folder\n",
    "bed_folders = [\n",
    "    os.path.join(out_dir, \"region_sets\", \"Topics_otsu\"),\n",
    "    os.path.join(out_dir, \"region_sets\", \"Topics_top_3k\"),\n",
    "    os.path.join(out_dir, \"region_sets\", \"DARs_cell_type\")\n",
    "]\n",
    "\n",
    "for bed_folder in bed_folders:\n",
    "    for fname in os.listdir(bed_folder):\n",
    "        if not fname.endswith(\".bed\"):\n",
    "            continue\n",
    "        bed_path = os.path.join(bed_folder, fname)\n",
    "        bed = pd.read_csv(bed_path, sep=\"\\t\", header=None, names=[\"Chromosome\", \"Start\", \"End\"])\n",
    "        bed_gr = PyRanges(bed)\n",
    "        overlap = bed_gr.overlap(db_gr)\n",
    "        print(f\"{fname}: {len(overlap)} overlaps\")"
   ]
  },
  {
   "cell_type": "markdown",
   "id": "0bdb49fb-edaa-469d-b60c-26ddf7a5b579",
   "metadata": {},
   "source": [
    "# Single Cell RNA Preprocessing"
   ]
  },
  {
   "cell_type": "code",
   "execution_count": null,
   "id": "1078ddf6-db16-4c0f-94da-a7c59aaeb4cb",
   "metadata": {},
   "outputs": [],
   "source": [
    "import warnings\n",
    "warnings.simplefilter(action='ignore', category=FutureWarning)\n",
    "import sys\n",
    "import os\n",
    "import matplotlib as plt\n",
    "import scanpy as sc\n",
    "sc.settings.set_figure_params(dpi=80, frameon=False, figsize=(5, 5), facecolor='white')\n",
    "\n",
    "work_dir = 'outs'\n",
    "ID = ID_use\n",
    "\n",
    "#make a directory for to store the processed scRNA-seq data.\n",
    "if not os.path.exists(os.path.join(work_dir, 'scRNA')):\n",
    "    os.makedirs(os.path.join(work_dir, 'scRNA'))"
   ]
  },
  {
   "cell_type": "code",
   "execution_count": null,
   "id": "e297c054-5085-4186-ab46-0965abf41e82",
   "metadata": {},
   "outputs": [],
   "source": [
    "adata = sc.read_h5ad(f\"{data_path}/data/results/h5ad.h5ad\")\n",
    "adata.var_names_make_unique()\n",
    "adata"
   ]
  },
  {
   "cell_type": "code",
   "execution_count": null,
   "id": "e2510870-e13f-466f-8f2a-b4fcbbd11407",
   "metadata": {},
   "outputs": [],
   "source": [
    "adata.raw = adata\n",
    "adata.raw"
   ]
  },
  {
   "cell_type": "code",
   "execution_count": null,
   "id": "d302e346-b92e-4514-a603-ecc4cb23dd14",
   "metadata": {},
   "outputs": [],
   "source": [
    "print(adata.raw.X.max())\n",
    "print(adata.X.max())\n",
    "print(adata.raw.X.mean())\n",
    "print(adata.X.mean())"
   ]
  },
  {
   "cell_type": "code",
   "execution_count": null,
   "id": "8440cbb2-a06c-4b04-b640-d2322915034f",
   "metadata": {},
   "outputs": [],
   "source": [
    "#adata.obs['celltype'] = adata.obs['combined_celltypes']\n",
    "adata.obs['celltype'] = adata.obs[group_col].str.replace(r'[ /]', '_', regex=True)\n",
    "adata.obs['sample_id'] = ID"
   ]
  },
  {
   "cell_type": "code",
   "execution_count": null,
   "id": "4bcf74fc-f5af-4875-b25d-18a4d4415945",
   "metadata": {},
   "outputs": [],
   "source": [
    "adata.raw = adata\n",
    "sc.pp.normalize_total(adata, target_sum=1e4)\n",
    "sc.pp.log1p(adata)\n",
    "sc.pp.highly_variable_genes(adata, min_mean=0.0125, max_mean=3, min_disp=0.5)\n",
    "#adata = adata[:, adata.var.highly_variable]\n",
    "#sc.pp.scale(adata, max_value=10)"
   ]
  },
  {
   "cell_type": "code",
   "execution_count": null,
   "id": "19c3553b-4634-40ba-8ec1-7099e9d59f45",
   "metadata": {},
   "outputs": [],
   "source": [
    "sc.tl.pca(adata, svd_solver='arpack')\n",
    "sc.pl.pca_variance_ratio(adata, log=True)"
   ]
  },
  {
   "cell_type": "code",
   "execution_count": null,
   "id": "42b6a00b-943d-4c9d-a1ff-5dbae61080cf",
   "metadata": {},
   "outputs": [],
   "source": [
    "sc.pp.neighbors(adata, n_neighbors=10, n_pcs=10)\n",
    "sc.tl.umap(adata)"
   ]
  },
  {
   "cell_type": "code",
   "execution_count": null,
   "id": "369f1950-1d43-4379-99cb-db1d44622650",
   "metadata": {},
   "outputs": [],
   "source": [
    "fig = sc.pl.umap(adata, color='celltype', legend_loc='on data', return_fig=True, legend_fontsize=8)"
   ]
  },
  {
   "cell_type": "code",
   "execution_count": null,
   "id": "796206a4-7686-4665-b34a-001c14591b8c",
   "metadata": {},
   "outputs": [],
   "source": [
    "fig = sc.pl.umap(adata,color = 'celltype', return_fig = True)"
   ]
  },
  {
   "cell_type": "code",
   "execution_count": null,
   "id": "a95aeda5-10c5-497b-8136-079fa51ffdec",
   "metadata": {},
   "outputs": [],
   "source": [
    "#fig = sc.pl.umap(adata,color = 'Group', return_fig = True, legend_loc='on data', legend_fontsize=8)"
   ]
  },
  {
   "cell_type": "code",
   "execution_count": null,
   "id": "8e8ac6a1-133a-4a94-9092-268600ef0b93",
   "metadata": {},
   "outputs": [],
   "source": [
    "print(adata.raw.X.max())\n",
    "print(adata.X.max())\n",
    "print(adata.raw.X.mean())\n",
    "print(adata.X.mean())"
   ]
  },
  {
   "cell_type": "code",
   "execution_count": null,
   "id": "2bb3b146-bbd1-4609-bacc-707bc74f14a9",
   "metadata": {},
   "outputs": [],
   "source": [
    "adata.__dict__['_raw'].__dict__['_var']"
   ]
  },
  {
   "cell_type": "code",
   "execution_count": null,
   "id": "9d8c08ed-6a55-4312-b502-79204f6fbf46",
   "metadata": {},
   "outputs": [],
   "source": [
    "#adata.__dict__['_raw'].__dict__['_var'] = adata.__dict__['_raw'].__dict__['_var'].rename(columns={'_index': 'features'})\n",
    "adata.write(os.path.join(work_dir, 'scRNA/adata.h5ad'), compression='gzip')"
   ]
  },
  {
   "cell_type": "code",
   "execution_count": null,
   "id": "f93d6f23-0364-4fd9-be2b-92d241e797b9",
   "metadata": {},
   "outputs": [],
   "source": []
  },
  {
   "cell_type": "code",
   "execution_count": null,
   "id": "6f54c9e1-b07a-4754-83ea-3ff9ddfd8818",
   "metadata": {},
   "outputs": [],
   "source": []
  }
 ],
 "metadata": {
  "kernelspec": {
   "display_name": "Python 3 (ipykernel)",
   "language": "python",
   "name": "python3"
  },
  "language_info": {
   "codemirror_mode": {
    "name": "ipython",
    "version": 3
   },
   "file_extension": ".py",
   "mimetype": "text/x-python",
   "name": "python",
   "nbconvert_exporter": "python",
   "pygments_lexer": "ipython3",
   "version": "3.11.9"
  }
 },
 "nbformat": 4,
 "nbformat_minor": 5
}
