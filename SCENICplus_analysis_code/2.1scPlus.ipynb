{
 "cells": [
  {
   "cell_type": "markdown",
   "id": "261b504b-0e4b-49d4-915f-18b9d2368515",
   "metadata": {},
   "source": [
    "## ScenicPlus"
   ]
  },
  {
   "cell_type": "code",
   "execution_count": null,
   "id": "a55fd85e-3c37-4c6f-b6b6-6c321ee163f7",
   "metadata": {},
   "outputs": [],
   "source": [
    "import subprocess\n",
    "import tempfile\n",
    "script1_path = './3.init_snakemake.sh'\n",
    "script2_path = './4.scenicplus.sh'\n",
    "# ==== CHANGE ONLY THIS ====\n",
    "species_in = \"hg38\"   # or \"mm10\"\n",
    "# =========================="
   ]
  },
  {
   "cell_type": "code",
   "execution_count": null,
   "id": "ad3ed095-d8d2-4488-8dca-3327e6a84aa2",
   "metadata": {
    "scrolled": true
   },
   "outputs": [],
   "source": [
    "# Convert the script to Unix format using dos2unix\n",
    "subprocess.run(['dos2unix', script1_path])\n",
    "\n",
    "# Run the bash script using subprocess\n",
    "result = subprocess.run(['bash', script1_path], capture_output=True, text=True)\n",
    "\n",
    "# Print the output and any errors\n",
    "print(\"Output:\", result.stdout)\n",
    "print(\"Errors:\", result.stderr)"
   ]
  },
  {
   "cell_type": "code",
   "execution_count": null,
   "id": "41f59f36-a2d7-4331-bdf3-28847ccf0968",
   "metadata": {},
   "outputs": [],
   "source": [
    "# ==== CHANGE ONLY THIS ====\n",
    "species_in = \"hg38\"   # or \"mm10\"\n",
    "# ==========================\n",
    "\n",
    "import pathlib\n",
    "import pandas as pd\n",
    "from pybiomart import Server  # pip install pybiomart\n",
    "\n",
    "# Output folder\n",
    "outdir = pathlib.Path(\"outs/scplus_pipeline/Snakemake/outs/\")\n",
    "outdir.mkdir(parents=True, exist_ok=True)\n",
    "genome_annotation_out = outdir / \"genome_annotation.tsv\"\n",
    "chromsizes_out = outdir / \"chromsizes.tsv\"\n",
    "\n",
    "# Map species to BioMart dataset & UCSC assembly\n",
    "species_map = {\"hg38\": (\"hsapiens_gene_ensembl\", \"hg38\"),\n",
    "               \"mm10\": (\"mmusculus_gene_ensembl\", \"mm10\")}\n",
    "if species_in not in species_map:\n",
    "    raise ValueError(\"species_in must be 'hg38' or 'mm10'\")\n",
    "dataset_name, ucsc_assembly = species_map[species_in]\n",
    "\n",
    "# 1) Get gene annotation from BioMart\n",
    "server = Server(host=\"http://www.ensembl.org\", use_cache=False)\n",
    "mart = server[\"ENSEMBL_MART_ENSEMBL\"]\n",
    "dataset = mart[dataset_name]\n",
    "\n",
    "external_gene_name_query = \"external_gene_name\" if \"external_gene_name\" in dataset.attributes.keys() else \"hgnc_symbol\"\n",
    "tss_query = \"transcription_start_site\" if \"transcription_start_site\" in dataset.attributes.keys() else \"transcript_start\"\n",
    "\n",
    "annot = dataset.query(\n",
    "    attributes=[\n",
    "        \"chromosome_name\", \"start_position\", \"end_position\",\n",
    "        \"strand\", external_gene_name_query, tss_query, \"transcript_biotype\"\n",
    "    ]\n",
    ")\n",
    "annot.columns = [\n",
    "    \"Chromosome\", \"Start\", \"End\", \"Strand\",\n",
    "    \"Gene\", \"Transcription_Start_Site\", \"Transcript_type\"\n",
    "]\n",
    "annot = annot[annot.Transcript_type == \"protein_coding\"].copy()\n",
    "annot['Strand'] = ['+' if int(s) == 1 else '-' for s in annot['Strand']]\n",
    "\n",
    "# Add chr prefix and filter\n",
    "annot[\"Chromosome\"] = \"chr\" + annot[\"Chromosome\"].astype(str)\n",
    "annot = annot[annot[\"Chromosome\"].str.match(r\"^chr[0-9XYM]+$\")].copy()\n",
    "\n",
    "# Save gene annotation\n",
    "annot.to_csv(genome_annotation_out, sep=\"\\t\", index=False)\n",
    "print(f\"✓ Saved genome annotation → {genome_annotation_out}\")\n",
    "\n",
    "# 2) Get chromsizes directly from UCSC\n",
    "chromsizes = pd.read_table(\n",
    "    f\"http://hgdownload.cse.ucsc.edu/goldenPath/{ucsc_assembly}/bigZips/{ucsc_assembly}.chrom.sizes\",\n",
    "    header=None,\n",
    "    names=[\"Chromosome\", \"End\"]\n",
    ")\n",
    "chromsizes.insert(1, \"Start\", 0)\n",
    "\n",
    "# Keep only chr-prefixed chromosomes consistent with annotation\n",
    "chromsizes = chromsizes[chromsizes[\"Chromosome\"].str.match(r\"^chr[0-9XYM]+$\")].copy()\n",
    "\n",
    "# Save chromsizes\n",
    "chromsizes.to_csv(chromsizes_out, sep=\"\\t\", index=False)\n",
    "print(f\"✓ Saved chromsizes → {chromsizes_out}\")\n",
    "\n",
    "# Quick preview\n",
    "print(\"\\n== Annotation preview ==\")\n",
    "print(annot.head())\n",
    "print(\"\\n== Chromsizes preview ==\")\n",
    "print(chromsizes.head())\n"
   ]
  },
  {
   "cell_type": "code",
   "execution_count": null,
   "id": "7cf876c0-5d00-4833-9f44-f25e5f8dcca7",
   "metadata": {},
   "outputs": [],
   "source": [
    "subprocess.run(['dos2unix', script2_path])\n",
    "\n",
    "# Run the bash script using subprocess\n",
    "result = subprocess.run(['bash', script2_path], capture_output=True, text=True)\n",
    "\n",
    "# Print the output and any errors\n",
    "print(\"Output:\", result.stdout)\n",
    "print(\"Errors:\", result.stderr)"
   ]
  },
  {
   "cell_type": "code",
   "execution_count": null,
   "id": "8946bbd4-9d02-46d1-a074-99bb693bd1c3",
   "metadata": {},
   "outputs": [],
   "source": []
  },
  {
   "cell_type": "code",
   "execution_count": null,
   "id": "e385349b-5e56-425f-a237-7bfae4974546",
   "metadata": {},
   "outputs": [],
   "source": []
  }
 ],
 "metadata": {
  "kernelspec": {
   "display_name": "Python 3 (ipykernel)",
   "language": "python",
   "name": "python3"
  },
  "language_info": {
   "codemirror_mode": {
    "name": "ipython",
    "version": 3
   },
   "file_extension": ".py",
   "mimetype": "text/x-python",
   "name": "python",
   "nbconvert_exporter": "python",
   "pygments_lexer": "ipython3",
   "version": "3.11.9"
  }
 },
 "nbformat": 4,
 "nbformat_minor": 5
}
